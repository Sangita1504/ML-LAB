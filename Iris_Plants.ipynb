{
  "nbformat": 4,
  "nbformat_minor": 0,
  "metadata": {
    "colab": {
      "provenance": [],
      "authorship_tag": "ABX9TyM7tuSawnkcZ7bePY3aajNP",
      "include_colab_link": true
    },
    "kernelspec": {
      "name": "python3",
      "display_name": "Python 3"
    },
    "language_info": {
      "name": "python"
    }
  },
  "cells": [
    {
      "cell_type": "markdown",
      "metadata": {
        "id": "view-in-github",
        "colab_type": "text"
      },
      "source": [
        "<a href=\"https://colab.research.google.com/github/Sangita1504/ML-LAB/blob/main/Iris_Plants.ipynb\" target=\"_parent\"><img src=\"https://colab.research.google.com/assets/colab-badge.svg\" alt=\"Open In Colab\"/></a>"
      ]
    },
    {
      "cell_type": "code",
      "execution_count": 1,
      "metadata": {
        "colab": {
          "base_uri": "https://localhost:8080/"
        },
        "id": "Fg1-L4y3bYHB",
        "outputId": "ec5fd380-47ce-4fdf-9430-4a903e235759"
      },
      "outputs": [
        {
          "output_type": "stream",
          "name": "stdout",
          "text": [
            "Collecting ucimlrepo\n",
            "  Downloading ucimlrepo-0.0.7-py3-none-any.whl.metadata (5.5 kB)\n",
            "Requirement already satisfied: numpy in /usr/local/lib/python3.11/dist-packages (2.0.2)\n",
            "Requirement already satisfied: pandas in /usr/local/lib/python3.11/dist-packages (2.2.2)\n",
            "Requirement already satisfied: matplotlib in /usr/local/lib/python3.11/dist-packages (3.10.0)\n",
            "Requirement already satisfied: scikit-learn in /usr/local/lib/python3.11/dist-packages (1.6.1)\n",
            "Requirement already satisfied: certifi>=2020.12.5 in /usr/local/lib/python3.11/dist-packages (from ucimlrepo) (2025.7.14)\n",
            "Requirement already satisfied: python-dateutil>=2.8.2 in /usr/local/lib/python3.11/dist-packages (from pandas) (2.9.0.post0)\n",
            "Requirement already satisfied: pytz>=2020.1 in /usr/local/lib/python3.11/dist-packages (from pandas) (2025.2)\n",
            "Requirement already satisfied: tzdata>=2022.7 in /usr/local/lib/python3.11/dist-packages (from pandas) (2025.2)\n",
            "Requirement already satisfied: contourpy>=1.0.1 in /usr/local/lib/python3.11/dist-packages (from matplotlib) (1.3.3)\n",
            "Requirement already satisfied: cycler>=0.10 in /usr/local/lib/python3.11/dist-packages (from matplotlib) (0.12.1)\n",
            "Requirement already satisfied: fonttools>=4.22.0 in /usr/local/lib/python3.11/dist-packages (from matplotlib) (4.59.0)\n",
            "Requirement already satisfied: kiwisolver>=1.3.1 in /usr/local/lib/python3.11/dist-packages (from matplotlib) (1.4.8)\n",
            "Requirement already satisfied: packaging>=20.0 in /usr/local/lib/python3.11/dist-packages (from matplotlib) (25.0)\n",
            "Requirement already satisfied: pillow>=8 in /usr/local/lib/python3.11/dist-packages (from matplotlib) (11.3.0)\n",
            "Requirement already satisfied: pyparsing>=2.3.1 in /usr/local/lib/python3.11/dist-packages (from matplotlib) (3.2.3)\n",
            "Requirement already satisfied: scipy>=1.6.0 in /usr/local/lib/python3.11/dist-packages (from scikit-learn) (1.16.1)\n",
            "Requirement already satisfied: joblib>=1.2.0 in /usr/local/lib/python3.11/dist-packages (from scikit-learn) (1.5.1)\n",
            "Requirement already satisfied: threadpoolctl>=3.1.0 in /usr/local/lib/python3.11/dist-packages (from scikit-learn) (3.6.0)\n",
            "Requirement already satisfied: six>=1.5 in /usr/local/lib/python3.11/dist-packages (from python-dateutil>=2.8.2->pandas) (1.17.0)\n",
            "Downloading ucimlrepo-0.0.7-py3-none-any.whl (8.0 kB)\n",
            "Installing collected packages: ucimlrepo\n",
            "Successfully installed ucimlrepo-0.0.7\n"
          ]
        }
      ],
      "source": [
        "!pip install ucimlrepo numpy pandas matplotlib scikit-learn"
      ]
    },
    {
      "cell_type": "code",
      "source": [
        "from ucimlrepo import fetch_ucirepo\n",
        "\n",
        "# fetch dataset\n",
        "iris = fetch_ucirepo(id=53)\n",
        "\n"
      ],
      "metadata": {
        "id": "MauDCHMec1Ox"
      },
      "execution_count": 2,
      "outputs": []
    },
    {
      "cell_type": "code",
      "source": [
        "import pandas as pd\n",
        "import numpy as np\n",
        "\n",
        "# Convert features and targets into DataFrames\n",
        "X = pd.DataFrame(iris.data.features, columns=iris.data.feature_names)\n",
        "Y = pd.DataFrame(iris.data.targets, columns=iris.data.target_names)\n",
        "\n",
        "# Optionally, combine features and target into a single DataFrame\n",
        "iris_dataset = pd.concat([X, Y], axis=1)\n",
        "iris_dataset.head()\n"
      ],
      "metadata": {
        "colab": {
          "base_uri": "https://localhost:8080/",
          "height": 206
        },
        "id": "lKSETJRDeCSC",
        "outputId": "d710a69c-ac10-473b-fe54-cbf2e434bd4e"
      },
      "execution_count": 3,
      "outputs": [
        {
          "output_type": "execute_result",
          "data": {
            "text/plain": [
              "   sepal length  sepal width  petal length  petal width        class\n",
              "0           5.1          3.5           1.4          0.2  Iris-setosa\n",
              "1           4.9          3.0           1.4          0.2  Iris-setosa\n",
              "2           4.7          3.2           1.3          0.2  Iris-setosa\n",
              "3           4.6          3.1           1.5          0.2  Iris-setosa\n",
              "4           5.0          3.6           1.4          0.2  Iris-setosa"
            ],
            "text/html": [
              "\n",
              "  <div id=\"df-9b1164a6-24e7-44d0-85ef-465e8fd855a5\" class=\"colab-df-container\">\n",
              "    <div>\n",
              "<style scoped>\n",
              "    .dataframe tbody tr th:only-of-type {\n",
              "        vertical-align: middle;\n",
              "    }\n",
              "\n",
              "    .dataframe tbody tr th {\n",
              "        vertical-align: top;\n",
              "    }\n",
              "\n",
              "    .dataframe thead th {\n",
              "        text-align: right;\n",
              "    }\n",
              "</style>\n",
              "<table border=\"1\" class=\"dataframe\">\n",
              "  <thead>\n",
              "    <tr style=\"text-align: right;\">\n",
              "      <th></th>\n",
              "      <th>sepal length</th>\n",
              "      <th>sepal width</th>\n",
              "      <th>petal length</th>\n",
              "      <th>petal width</th>\n",
              "      <th>class</th>\n",
              "    </tr>\n",
              "  </thead>\n",
              "  <tbody>\n",
              "    <tr>\n",
              "      <th>0</th>\n",
              "      <td>5.1</td>\n",
              "      <td>3.5</td>\n",
              "      <td>1.4</td>\n",
              "      <td>0.2</td>\n",
              "      <td>Iris-setosa</td>\n",
              "    </tr>\n",
              "    <tr>\n",
              "      <th>1</th>\n",
              "      <td>4.9</td>\n",
              "      <td>3.0</td>\n",
              "      <td>1.4</td>\n",
              "      <td>0.2</td>\n",
              "      <td>Iris-setosa</td>\n",
              "    </tr>\n",
              "    <tr>\n",
              "      <th>2</th>\n",
              "      <td>4.7</td>\n",
              "      <td>3.2</td>\n",
              "      <td>1.3</td>\n",
              "      <td>0.2</td>\n",
              "      <td>Iris-setosa</td>\n",
              "    </tr>\n",
              "    <tr>\n",
              "      <th>3</th>\n",
              "      <td>4.6</td>\n",
              "      <td>3.1</td>\n",
              "      <td>1.5</td>\n",
              "      <td>0.2</td>\n",
              "      <td>Iris-setosa</td>\n",
              "    </tr>\n",
              "    <tr>\n",
              "      <th>4</th>\n",
              "      <td>5.0</td>\n",
              "      <td>3.6</td>\n",
              "      <td>1.4</td>\n",
              "      <td>0.2</td>\n",
              "      <td>Iris-setosa</td>\n",
              "    </tr>\n",
              "  </tbody>\n",
              "</table>\n",
              "</div>\n",
              "    <div class=\"colab-df-buttons\">\n",
              "\n",
              "  <div class=\"colab-df-container\">\n",
              "    <button class=\"colab-df-convert\" onclick=\"convertToInteractive('df-9b1164a6-24e7-44d0-85ef-465e8fd855a5')\"\n",
              "            title=\"Convert this dataframe to an interactive table.\"\n",
              "            style=\"display:none;\">\n",
              "\n",
              "  <svg xmlns=\"http://www.w3.org/2000/svg\" height=\"24px\" viewBox=\"0 -960 960 960\">\n",
              "    <path d=\"M120-120v-720h720v720H120Zm60-500h600v-160H180v160Zm220 220h160v-160H400v160Zm0 220h160v-160H400v160ZM180-400h160v-160H180v160Zm440 0h160v-160H620v160ZM180-180h160v-160H180v160Zm440 0h160v-160H620v160Z\"/>\n",
              "  </svg>\n",
              "    </button>\n",
              "\n",
              "  <style>\n",
              "    .colab-df-container {\n",
              "      display:flex;\n",
              "      gap: 12px;\n",
              "    }\n",
              "\n",
              "    .colab-df-convert {\n",
              "      background-color: #E8F0FE;\n",
              "      border: none;\n",
              "      border-radius: 50%;\n",
              "      cursor: pointer;\n",
              "      display: none;\n",
              "      fill: #1967D2;\n",
              "      height: 32px;\n",
              "      padding: 0 0 0 0;\n",
              "      width: 32px;\n",
              "    }\n",
              "\n",
              "    .colab-df-convert:hover {\n",
              "      background-color: #E2EBFA;\n",
              "      box-shadow: 0px 1px 2px rgba(60, 64, 67, 0.3), 0px 1px 3px 1px rgba(60, 64, 67, 0.15);\n",
              "      fill: #174EA6;\n",
              "    }\n",
              "\n",
              "    .colab-df-buttons div {\n",
              "      margin-bottom: 4px;\n",
              "    }\n",
              "\n",
              "    [theme=dark] .colab-df-convert {\n",
              "      background-color: #3B4455;\n",
              "      fill: #D2E3FC;\n",
              "    }\n",
              "\n",
              "    [theme=dark] .colab-df-convert:hover {\n",
              "      background-color: #434B5C;\n",
              "      box-shadow: 0px 1px 3px 1px rgba(0, 0, 0, 0.15);\n",
              "      filter: drop-shadow(0px 1px 2px rgba(0, 0, 0, 0.3));\n",
              "      fill: #FFFFFF;\n",
              "    }\n",
              "  </style>\n",
              "\n",
              "    <script>\n",
              "      const buttonEl =\n",
              "        document.querySelector('#df-9b1164a6-24e7-44d0-85ef-465e8fd855a5 button.colab-df-convert');\n",
              "      buttonEl.style.display =\n",
              "        google.colab.kernel.accessAllowed ? 'block' : 'none';\n",
              "\n",
              "      async function convertToInteractive(key) {\n",
              "        const element = document.querySelector('#df-9b1164a6-24e7-44d0-85ef-465e8fd855a5');\n",
              "        const dataTable =\n",
              "          await google.colab.kernel.invokeFunction('convertToInteractive',\n",
              "                                                    [key], {});\n",
              "        if (!dataTable) return;\n",
              "\n",
              "        const docLinkHtml = 'Like what you see? Visit the ' +\n",
              "          '<a target=\"_blank\" href=https://colab.research.google.com/notebooks/data_table.ipynb>data table notebook</a>'\n",
              "          + ' to learn more about interactive tables.';\n",
              "        element.innerHTML = '';\n",
              "        dataTable['output_type'] = 'display_data';\n",
              "        await google.colab.output.renderOutput(dataTable, element);\n",
              "        const docLink = document.createElement('div');\n",
              "        docLink.innerHTML = docLinkHtml;\n",
              "        element.appendChild(docLink);\n",
              "      }\n",
              "    </script>\n",
              "  </div>\n",
              "\n",
              "\n",
              "    <div id=\"df-2475b106-d15f-4bfe-9cf0-41daac3db754\">\n",
              "      <button class=\"colab-df-quickchart\" onclick=\"quickchart('df-2475b106-d15f-4bfe-9cf0-41daac3db754')\"\n",
              "                title=\"Suggest charts\"\n",
              "                style=\"display:none;\">\n",
              "\n",
              "<svg xmlns=\"http://www.w3.org/2000/svg\" height=\"24px\"viewBox=\"0 0 24 24\"\n",
              "     width=\"24px\">\n",
              "    <g>\n",
              "        <path d=\"M19 3H5c-1.1 0-2 .9-2 2v14c0 1.1.9 2 2 2h14c1.1 0 2-.9 2-2V5c0-1.1-.9-2-2-2zM9 17H7v-7h2v7zm4 0h-2V7h2v10zm4 0h-2v-4h2v4z\"/>\n",
              "    </g>\n",
              "</svg>\n",
              "      </button>\n",
              "\n",
              "<style>\n",
              "  .colab-df-quickchart {\n",
              "      --bg-color: #E8F0FE;\n",
              "      --fill-color: #1967D2;\n",
              "      --hover-bg-color: #E2EBFA;\n",
              "      --hover-fill-color: #174EA6;\n",
              "      --disabled-fill-color: #AAA;\n",
              "      --disabled-bg-color: #DDD;\n",
              "  }\n",
              "\n",
              "  [theme=dark] .colab-df-quickchart {\n",
              "      --bg-color: #3B4455;\n",
              "      --fill-color: #D2E3FC;\n",
              "      --hover-bg-color: #434B5C;\n",
              "      --hover-fill-color: #FFFFFF;\n",
              "      --disabled-bg-color: #3B4455;\n",
              "      --disabled-fill-color: #666;\n",
              "  }\n",
              "\n",
              "  .colab-df-quickchart {\n",
              "    background-color: var(--bg-color);\n",
              "    border: none;\n",
              "    border-radius: 50%;\n",
              "    cursor: pointer;\n",
              "    display: none;\n",
              "    fill: var(--fill-color);\n",
              "    height: 32px;\n",
              "    padding: 0;\n",
              "    width: 32px;\n",
              "  }\n",
              "\n",
              "  .colab-df-quickchart:hover {\n",
              "    background-color: var(--hover-bg-color);\n",
              "    box-shadow: 0 1px 2px rgba(60, 64, 67, 0.3), 0 1px 3px 1px rgba(60, 64, 67, 0.15);\n",
              "    fill: var(--button-hover-fill-color);\n",
              "  }\n",
              "\n",
              "  .colab-df-quickchart-complete:disabled,\n",
              "  .colab-df-quickchart-complete:disabled:hover {\n",
              "    background-color: var(--disabled-bg-color);\n",
              "    fill: var(--disabled-fill-color);\n",
              "    box-shadow: none;\n",
              "  }\n",
              "\n",
              "  .colab-df-spinner {\n",
              "    border: 2px solid var(--fill-color);\n",
              "    border-color: transparent;\n",
              "    border-bottom-color: var(--fill-color);\n",
              "    animation:\n",
              "      spin 1s steps(1) infinite;\n",
              "  }\n",
              "\n",
              "  @keyframes spin {\n",
              "    0% {\n",
              "      border-color: transparent;\n",
              "      border-bottom-color: var(--fill-color);\n",
              "      border-left-color: var(--fill-color);\n",
              "    }\n",
              "    20% {\n",
              "      border-color: transparent;\n",
              "      border-left-color: var(--fill-color);\n",
              "      border-top-color: var(--fill-color);\n",
              "    }\n",
              "    30% {\n",
              "      border-color: transparent;\n",
              "      border-left-color: var(--fill-color);\n",
              "      border-top-color: var(--fill-color);\n",
              "      border-right-color: var(--fill-color);\n",
              "    }\n",
              "    40% {\n",
              "      border-color: transparent;\n",
              "      border-right-color: var(--fill-color);\n",
              "      border-top-color: var(--fill-color);\n",
              "    }\n",
              "    60% {\n",
              "      border-color: transparent;\n",
              "      border-right-color: var(--fill-color);\n",
              "    }\n",
              "    80% {\n",
              "      border-color: transparent;\n",
              "      border-right-color: var(--fill-color);\n",
              "      border-bottom-color: var(--fill-color);\n",
              "    }\n",
              "    90% {\n",
              "      border-color: transparent;\n",
              "      border-bottom-color: var(--fill-color);\n",
              "    }\n",
              "  }\n",
              "</style>\n",
              "\n",
              "      <script>\n",
              "        async function quickchart(key) {\n",
              "          const quickchartButtonEl =\n",
              "            document.querySelector('#' + key + ' button');\n",
              "          quickchartButtonEl.disabled = true;  // To prevent multiple clicks.\n",
              "          quickchartButtonEl.classList.add('colab-df-spinner');\n",
              "          try {\n",
              "            const charts = await google.colab.kernel.invokeFunction(\n",
              "                'suggestCharts', [key], {});\n",
              "          } catch (error) {\n",
              "            console.error('Error during call to suggestCharts:', error);\n",
              "          }\n",
              "          quickchartButtonEl.classList.remove('colab-df-spinner');\n",
              "          quickchartButtonEl.classList.add('colab-df-quickchart-complete');\n",
              "        }\n",
              "        (() => {\n",
              "          let quickchartButtonEl =\n",
              "            document.querySelector('#df-2475b106-d15f-4bfe-9cf0-41daac3db754 button');\n",
              "          quickchartButtonEl.style.display =\n",
              "            google.colab.kernel.accessAllowed ? 'block' : 'none';\n",
              "        })();\n",
              "      </script>\n",
              "    </div>\n",
              "\n",
              "    </div>\n",
              "  </div>\n"
            ],
            "application/vnd.google.colaboratory.intrinsic+json": {
              "type": "dataframe",
              "variable_name": "iris_dataset",
              "summary": "{\n  \"name\": \"iris_dataset\",\n  \"rows\": 150,\n  \"fields\": [\n    {\n      \"column\": \"sepal length\",\n      \"properties\": {\n        \"dtype\": \"number\",\n        \"std\": 0.8280661279778629,\n        \"min\": 4.3,\n        \"max\": 7.9,\n        \"num_unique_values\": 35,\n        \"samples\": [\n          6.2,\n          4.5,\n          5.6\n        ],\n        \"semantic_type\": \"\",\n        \"description\": \"\"\n      }\n    },\n    {\n      \"column\": \"sepal width\",\n      \"properties\": {\n        \"dtype\": \"number\",\n        \"std\": 0.4335943113621737,\n        \"min\": 2.0,\n        \"max\": 4.4,\n        \"num_unique_values\": 23,\n        \"samples\": [\n          2.3,\n          4.0,\n          3.5\n        ],\n        \"semantic_type\": \"\",\n        \"description\": \"\"\n      }\n    },\n    {\n      \"column\": \"petal length\",\n      \"properties\": {\n        \"dtype\": \"number\",\n        \"std\": 1.7644204199522617,\n        \"min\": 1.0,\n        \"max\": 6.9,\n        \"num_unique_values\": 43,\n        \"samples\": [\n          6.7,\n          3.8,\n          3.7\n        ],\n        \"semantic_type\": \"\",\n        \"description\": \"\"\n      }\n    },\n    {\n      \"column\": \"petal width\",\n      \"properties\": {\n        \"dtype\": \"number\",\n        \"std\": 0.7631607417008414,\n        \"min\": 0.1,\n        \"max\": 2.5,\n        \"num_unique_values\": 22,\n        \"samples\": [\n          0.2,\n          1.2,\n          1.3\n        ],\n        \"semantic_type\": \"\",\n        \"description\": \"\"\n      }\n    },\n    {\n      \"column\": \"class\",\n      \"properties\": {\n        \"dtype\": \"category\",\n        \"num_unique_values\": 3,\n        \"samples\": [\n          \"Iris-setosa\",\n          \"Iris-versicolor\",\n          \"Iris-virginica\"\n        ],\n        \"semantic_type\": \"\",\n        \"description\": \"\"\n      }\n    }\n  ]\n}"
            }
          },
          "metadata": {},
          "execution_count": 3
        }
      ]
    },
    {
      "cell_type": "code",
      "source": [
        "#checking for null value\n",
        "iris_dataset.isnull().sum()"
      ],
      "metadata": {
        "colab": {
          "base_uri": "https://localhost:8080/",
          "height": 241
        },
        "id": "bf7_0dBMeJUy",
        "outputId": "8115cb61-8be9-464a-bb4c-85a27fe1b00c"
      },
      "execution_count": 4,
      "outputs": [
        {
          "output_type": "execute_result",
          "data": {
            "text/plain": [
              "sepal length    0\n",
              "sepal width     0\n",
              "petal length    0\n",
              "petal width     0\n",
              "class           0\n",
              "dtype: int64"
            ],
            "text/html": [
              "<div>\n",
              "<style scoped>\n",
              "    .dataframe tbody tr th:only-of-type {\n",
              "        vertical-align: middle;\n",
              "    }\n",
              "\n",
              "    .dataframe tbody tr th {\n",
              "        vertical-align: top;\n",
              "    }\n",
              "\n",
              "    .dataframe thead th {\n",
              "        text-align: right;\n",
              "    }\n",
              "</style>\n",
              "<table border=\"1\" class=\"dataframe\">\n",
              "  <thead>\n",
              "    <tr style=\"text-align: right;\">\n",
              "      <th></th>\n",
              "      <th>0</th>\n",
              "    </tr>\n",
              "  </thead>\n",
              "  <tbody>\n",
              "    <tr>\n",
              "      <th>sepal length</th>\n",
              "      <td>0</td>\n",
              "    </tr>\n",
              "    <tr>\n",
              "      <th>sepal width</th>\n",
              "      <td>0</td>\n",
              "    </tr>\n",
              "    <tr>\n",
              "      <th>petal length</th>\n",
              "      <td>0</td>\n",
              "    </tr>\n",
              "    <tr>\n",
              "      <th>petal width</th>\n",
              "      <td>0</td>\n",
              "    </tr>\n",
              "    <tr>\n",
              "      <th>class</th>\n",
              "      <td>0</td>\n",
              "    </tr>\n",
              "  </tbody>\n",
              "</table>\n",
              "</div><br><label><b>dtype:</b> int64</label>"
            ]
          },
          "metadata": {},
          "execution_count": 4
        }
      ]
    },
    {
      "cell_type": "markdown",
      "source": [
        "# **MULTINOMIAL** **CLASSIFIER**"
      ],
      "metadata": {
        "id": "xkPJbfrZqSRM"
      }
    },
    {
      "cell_type": "code",
      "source": [
        "#Accuracy scores list\n",
        "multi_accuracy_scores=[]"
      ],
      "metadata": {
        "id": "_eGi1K2OeOei"
      },
      "execution_count": 5,
      "outputs": []
    },
    {
      "cell_type": "code",
      "source": [
        "from sklearn.model_selection import train_test_split\n",
        "from sklearn.naive_bayes import MultinomialNB\n",
        "from sklearn.metrics import accuracy_score, confusion_matrix, classification_report\n",
        "\n",
        "#splitting training dataset\n",
        "X_train, X_test, Y_train, Y_test = train_test_split(X, Y, test_size=0.5, random_state=2)\n",
        "\n",
        "#Classsification model Naive BAyes\n",
        "MultiClassifier=MultinomialNB().fit(X_train,Y_train)\n",
        "\n",
        "Y_predict=MultiClassifier.predict(X_test)\n",
        "\n",
        "accuracy=accuracy_score(Y_test, Y_predict)\n",
        "print(\"Accuracy Score: \",accuracy)\n",
        "multi_accuracy_scores.append(accuracy)\n",
        "print(\"==================================================\")\n",
        "print(\"Confusion Matrix:\\n\",confusion_matrix(Y_test, Y_predict))\n",
        "print(\"==================================================\")\n",
        "print(\"Classification Report:\\n\",classification_report(Y_test, Y_predict))"
      ],
      "metadata": {
        "colab": {
          "base_uri": "https://localhost:8080/"
        },
        "id": "hNgKoaXVe_Gz",
        "outputId": "5fae3929-cc66-4415-a832-5597c04d0335"
      },
      "execution_count": 6,
      "outputs": [
        {
          "output_type": "stream",
          "name": "stdout",
          "text": [
            "Accuracy Score:  0.88\n",
            "==================================================\n",
            "Confusion Matrix:\n",
            " [[27  0  0]\n",
            " [ 0 23  0]\n",
            " [ 0  9 16]]\n",
            "==================================================\n",
            "Classification Report:\n",
            "                  precision    recall  f1-score   support\n",
            "\n",
            "    Iris-setosa       1.00      1.00      1.00        27\n",
            "Iris-versicolor       0.72      1.00      0.84        23\n",
            " Iris-virginica       1.00      0.64      0.78        25\n",
            "\n",
            "       accuracy                           0.88        75\n",
            "      macro avg       0.91      0.88      0.87        75\n",
            "   weighted avg       0.91      0.88      0.88        75\n",
            "\n"
          ]
        },
        {
          "output_type": "stream",
          "name": "stderr",
          "text": [
            "/usr/local/lib/python3.11/dist-packages/sklearn/utils/validation.py:1408: DataConversionWarning: A column-vector y was passed when a 1d array was expected. Please change the shape of y to (n_samples, ), for example using ravel().\n",
            "  y = column_or_1d(y, warn=True)\n"
          ]
        }
      ]
    },
    {
      "cell_type": "code",
      "source": [
        "from sklearn.model_selection import train_test_split\n",
        "from sklearn.naive_bayes import MultinomialNB\n",
        "from sklearn.metrics import accuracy_score, confusion_matrix, classification_report\n",
        "\n",
        "#splitting training dataset\n",
        "X_train, X_test, Y_train, Y_test = train_test_split(X, Y, test_size=0.4, random_state=2)\n",
        "\n",
        "#Classsification model Naive BAyes\n",
        "MultiClassifier=MultinomialNB().fit(X_train,Y_train)\n",
        "\n",
        "Y_predict=MultiClassifier.predict(X_test)\n",
        "\n",
        "accuracy=accuracy_score(Y_test, Y_predict)\n",
        "print(\"Accuracy Score: \",accuracy)\n",
        "multi_accuracy_scores.append(accuracy)\n",
        "print(\"==================================================\")\n",
        "print(\"Confusion Matrix:\\n\",confusion_matrix(Y_test, Y_predict))\n",
        "print(\"==================================================\")\n",
        "print(\"Classification Report:\\n\",classification_report(Y_test, Y_predict))"
      ],
      "metadata": {
        "colab": {
          "base_uri": "https://localhost:8080/"
        },
        "id": "5sbm1BVUfkur",
        "outputId": "8d2cf256-9f7f-40ca-981b-1c960f6eefc7"
      },
      "execution_count": 7,
      "outputs": [
        {
          "output_type": "stream",
          "name": "stdout",
          "text": [
            "Accuracy Score:  0.7666666666666667\n",
            "==================================================\n",
            "Confusion Matrix:\n",
            " [[23  0  0]\n",
            " [ 0 16  0]\n",
            " [ 0 14  7]]\n",
            "==================================================\n",
            "Classification Report:\n",
            "                  precision    recall  f1-score   support\n",
            "\n",
            "    Iris-setosa       1.00      1.00      1.00        23\n",
            "Iris-versicolor       0.53      1.00      0.70        16\n",
            " Iris-virginica       1.00      0.33      0.50        21\n",
            "\n",
            "       accuracy                           0.77        60\n",
            "      macro avg       0.84      0.78      0.73        60\n",
            "   weighted avg       0.88      0.77      0.74        60\n",
            "\n"
          ]
        },
        {
          "output_type": "stream",
          "name": "stderr",
          "text": [
            "/usr/local/lib/python3.11/dist-packages/sklearn/utils/validation.py:1408: DataConversionWarning: A column-vector y was passed when a 1d array was expected. Please change the shape of y to (n_samples, ), for example using ravel().\n",
            "  y = column_or_1d(y, warn=True)\n"
          ]
        }
      ]
    },
    {
      "cell_type": "code",
      "source": [
        "from sklearn.model_selection import train_test_split\n",
        "from sklearn.naive_bayes import MultinomialNB\n",
        "from sklearn.metrics import accuracy_score, confusion_matrix, classification_report\n",
        "\n",
        "#splitting training dataset\n",
        "X_train, X_test, Y_train, Y_test = train_test_split(X, Y, test_size=0.3, random_state=2)\n",
        "\n",
        "#Classsification model Naive BAyes\n",
        "MultiClassifier=MultinomialNB().fit(X_train,Y_train)\n",
        "\n",
        "Y_predict=MultiClassifier.predict(X_test)\n",
        "\n",
        "accuracy=accuracy_score(Y_test, Y_predict)\n",
        "print(\"Accuracy Score: \",accuracy)\n",
        "multi_accuracy_scores.append(accuracy)\n",
        "print(\"==================================================\")\n",
        "print(\"Confusion Matrix:\\n\",confusion_matrix(Y_test, Y_predict))\n",
        "print(\"==================================================\")\n",
        "print(\"Classification Report:\\n\",classification_report(Y_test, Y_predict))"
      ],
      "metadata": {
        "colab": {
          "base_uri": "https://localhost:8080/"
        },
        "id": "S7FSJ0sriAOs",
        "outputId": "1a5bdcb1-88d2-49b5-8869-c3817466f756"
      },
      "execution_count": 8,
      "outputs": [
        {
          "output_type": "stream",
          "name": "stdout",
          "text": [
            "Accuracy Score:  0.9111111111111111\n",
            "==================================================\n",
            "Confusion Matrix:\n",
            " [[17  0  0]\n",
            " [ 0 11  4]\n",
            " [ 0  0 13]]\n",
            "==================================================\n",
            "Classification Report:\n",
            "                  precision    recall  f1-score   support\n",
            "\n",
            "    Iris-setosa       1.00      1.00      1.00        17\n",
            "Iris-versicolor       1.00      0.73      0.85        15\n",
            " Iris-virginica       0.76      1.00      0.87        13\n",
            "\n",
            "       accuracy                           0.91        45\n",
            "      macro avg       0.92      0.91      0.90        45\n",
            "   weighted avg       0.93      0.91      0.91        45\n",
            "\n"
          ]
        },
        {
          "output_type": "stream",
          "name": "stderr",
          "text": [
            "/usr/local/lib/python3.11/dist-packages/sklearn/utils/validation.py:1408: DataConversionWarning: A column-vector y was passed when a 1d array was expected. Please change the shape of y to (n_samples, ), for example using ravel().\n",
            "  y = column_or_1d(y, warn=True)\n"
          ]
        }
      ]
    },
    {
      "cell_type": "code",
      "source": [
        "from sklearn.model_selection import train_test_split\n",
        "from sklearn.naive_bayes import MultinomialNB\n",
        "from sklearn.metrics import accuracy_score, confusion_matrix, classification_report\n",
        "\n",
        "#splitting training dataset\n",
        "X_train, X_test, Y_train, Y_test = train_test_split(X, Y, test_size=0.2, random_state=2)\n",
        "\n",
        "#Classsification model Naive BAyes\n",
        "MultiClassifier=MultinomialNB().fit(X_train,Y_train)\n",
        "\n",
        "Y_predict=MultiClassifier.predict(X_test)\n",
        "\n",
        "accuracy=accuracy_score(Y_test, Y_predict)\n",
        "print(\"Accuracy Score: \",accuracy)\n",
        "multi_accuracy_scores.append(accuracy)\n",
        "print(\"==================================================\")\n",
        "print(\"Confusion Matrix:\\n\",confusion_matrix(Y_test, Y_predict))\n",
        "print(\"==================================================\")\n",
        "print(\"Classification Report:\\n\",classification_report(Y_test, Y_predict))"
      ],
      "metadata": {
        "colab": {
          "base_uri": "https://localhost:8080/"
        },
        "id": "TjqOW1PJiE5r",
        "outputId": "32216177-c1b3-4156-fd6e-87935c1c8df2"
      },
      "execution_count": 9,
      "outputs": [
        {
          "output_type": "stream",
          "name": "stdout",
          "text": [
            "Accuracy Score:  0.9666666666666667\n",
            "==================================================\n",
            "Confusion Matrix:\n",
            " [[14  0  0]\n",
            " [ 0  8  0]\n",
            " [ 0  1  7]]\n",
            "==================================================\n",
            "Classification Report:\n",
            "                  precision    recall  f1-score   support\n",
            "\n",
            "    Iris-setosa       1.00      1.00      1.00        14\n",
            "Iris-versicolor       0.89      1.00      0.94         8\n",
            " Iris-virginica       1.00      0.88      0.93         8\n",
            "\n",
            "       accuracy                           0.97        30\n",
            "      macro avg       0.96      0.96      0.96        30\n",
            "   weighted avg       0.97      0.97      0.97        30\n",
            "\n"
          ]
        },
        {
          "output_type": "stream",
          "name": "stderr",
          "text": [
            "/usr/local/lib/python3.11/dist-packages/sklearn/utils/validation.py:1408: DataConversionWarning: A column-vector y was passed when a 1d array was expected. Please change the shape of y to (n_samples, ), for example using ravel().\n",
            "  y = column_or_1d(y, warn=True)\n"
          ]
        }
      ]
    },
    {
      "cell_type": "code",
      "source": [
        "from sklearn.model_selection import train_test_split\n",
        "from sklearn.naive_bayes import MultinomialNB\n",
        "from sklearn.metrics import accuracy_score, confusion_matrix, classification_report\n",
        "\n",
        "#splitting training dataset\n",
        "X_train, X_test, Y_train, Y_test = train_test_split(X, Y, test_size=0.1, random_state=2)\n",
        "\n",
        "#Classsification model Naive BAyes\n",
        "MultiClassifier=MultinomialNB().fit(X_train,Y_train)\n",
        "\n",
        "Y_predict=MultiClassifier.predict(X_test)\n",
        "\n",
        "accuracy=accuracy_score(Y_test, Y_predict)\n",
        "print(\"Accuracy Score: \",accuracy)\n",
        "multi_accuracy_scores.append(accuracy)\n",
        "print(\"==================================================\")\n",
        "print(\"Confusion Matrix:\\n\",confusion_matrix(Y_test, Y_predict))\n",
        "print(\"==================================================\")\n",
        "print(\"Classification Report:\\n\",classification_report(Y_test, Y_predict))"
      ],
      "metadata": {
        "colab": {
          "base_uri": "https://localhost:8080/"
        },
        "id": "Xr50MkwOlRLM",
        "outputId": "d6c1f2ac-08e3-4058-d5ed-bbd204fdb305"
      },
      "execution_count": 10,
      "outputs": [
        {
          "output_type": "stream",
          "name": "stdout",
          "text": [
            "Accuracy Score:  0.9333333333333333\n",
            "==================================================\n",
            "Confusion Matrix:\n",
            " [[10  0  0]\n",
            " [ 0  1  0]\n",
            " [ 0  1  3]]\n",
            "==================================================\n",
            "Classification Report:\n",
            "                  precision    recall  f1-score   support\n",
            "\n",
            "    Iris-setosa       1.00      1.00      1.00        10\n",
            "Iris-versicolor       0.50      1.00      0.67         1\n",
            " Iris-virginica       1.00      0.75      0.86         4\n",
            "\n",
            "       accuracy                           0.93        15\n",
            "      macro avg       0.83      0.92      0.84        15\n",
            "   weighted avg       0.97      0.93      0.94        15\n",
            "\n"
          ]
        },
        {
          "output_type": "stream",
          "name": "stderr",
          "text": [
            "/usr/local/lib/python3.11/dist-packages/sklearn/utils/validation.py:1408: DataConversionWarning: A column-vector y was passed when a 1d array was expected. Please change the shape of y to (n_samples, ), for example using ravel().\n",
            "  y = column_or_1d(y, warn=True)\n"
          ]
        }
      ]
    },
    {
      "cell_type": "code",
      "source": [
        "import matplotlib.pyplot as plt\n",
        "import numpy as np\n",
        "\n",
        "x=np.array([\"50:50\",\"60:40\",\"70:30\",\"80:20\",\"90:10\"])\n",
        "y=np.array(multi_accuracy_scores)\n",
        "\n",
        "plt.bar(x,y,align='center')\n",
        "plt.title('Accuracy BarGraph of MultinomialNM')\n",
        "plt.xlabel('train-test split')\n",
        "plt.ylim(0.1,1.0)\n",
        "plt.ylabel('Accuracy score')\n",
        "plt.show()\n",
        "\n"
      ],
      "metadata": {
        "colab": {
          "base_uri": "https://localhost:8080/",
          "height": 472
        },
        "id": "QS22NSESmzJd",
        "outputId": "634e9d43-65fa-4982-f4fc-ca367ff7defb"
      },
      "execution_count": 11,
      "outputs": [
        {
          "output_type": "display_data",
          "data": {
            "text/plain": [
              "<Figure size 640x480 with 1 Axes>"
            ],
            "image/png": "[encoded data removed]"
          },
          "metadata": {}
        }
      ]
    },
    {
      "cell_type": "markdown",
      "source": [
        "# **GAUSSIAN** **CLASSIFIER**"
      ],
      "metadata": {
        "id": "La3LXSYrp2Bc"
      }
    },
    {
      "cell_type": "code",
      "source": [
        "# accuracy scores datasets\n",
        "gauss_accuracy_scores=[]"
      ],
      "metadata": {
        "id": "75iMo00snjVc"
      },
      "execution_count": 12,
      "outputs": []
    },
    {
      "cell_type": "code",
      "source": [
        "from sklearn.model_selection import train_test_split\n",
        "from sklearn.naive_bayes import GaussianNB\n",
        "from sklearn.metrics import accuracy_score, confusion_matrix, classification_report\n",
        "\n",
        "#splitting training dataset\n",
        "X_train, X_test, Y_train, Y_test = train_test_split(X, Y, test_size=0.2, random_state=2)\n",
        "\n",
        "#Classsification model Naive BAyes\n",
        "GaussClassifier=GaussianNB().fit(X_train,Y_train)\n",
        "# predicting testing dataset\n",
        "Y_predict=GaussClassifier.predict(X_test)\n",
        "\n",
        "\n",
        "\n",
        "print(\"Accuracy Score: \",accuracy_score(Y_test, Y_predict))\n",
        "gauss_accuracy_scores.append(accuracy_score(Y_test, Y_predict))\n",
        "print(\"==================================================\")\n",
        "print(\"Confusion Matrix:\\n\",confusion_matrix(Y_test, Y_predict))\n",
        "print(\"==================================================\")\n",
        "print(\"Classification Report:\\n\",classification_report(Y_test, Y_predict))\n"
      ],
      "metadata": {
        "colab": {
          "base_uri": "https://localhost:8080/"
        },
        "id": "54mMc7XtoB99",
        "outputId": "a50bdf2a-78e3-4404-8ada-5640871dc9bc"
      },
      "execution_count": 13,
      "outputs": [
        {
          "output_type": "stream",
          "name": "stdout",
          "text": [
            "Accuracy Score:  0.9666666666666667\n",
            "==================================================\n",
            "Confusion Matrix:\n",
            " [[14  0  0]\n",
            " [ 0  7  1]\n",
            " [ 0  0  8]]\n",
            "==================================================\n",
            "Classification Report:\n",
            "                  precision    recall  f1-score   support\n",
            "\n",
            "    Iris-setosa       1.00      1.00      1.00        14\n",
            "Iris-versicolor       1.00      0.88      0.93         8\n",
            " Iris-virginica       0.89      1.00      0.94         8\n",
            "\n",
            "       accuracy                           0.97        30\n",
            "      macro avg       0.96      0.96      0.96        30\n",
            "   weighted avg       0.97      0.97      0.97        30\n",
            "\n"
          ]
        },
        {
          "output_type": "stream",
          "name": "stderr",
          "text": [
            "/usr/local/lib/python3.11/dist-packages/sklearn/utils/validation.py:1408: DataConversionWarning: A column-vector y was passed when a 1d array was expected. Please change the shape of y to (n_samples, ), for example using ravel().\n",
            "  y = column_or_1d(y, warn=True)\n"
          ]
        }
      ]
    },
    {
      "cell_type": "code",
      "source": [
        "from sklearn.model_selection import train_test_split\n",
        "from sklearn.naive_bayes import GaussianNB\n",
        "from sklearn.metrics import accuracy_score, confusion_matrix, classification_report\n",
        "\n",
        "#splitting training dataset\n",
        "X_train, X_test, Y_train, Y_test = train_test_split(X, Y, test_size=0.4, random_state=2)\n",
        "\n",
        "#Classsification model Naive BAyes\n",
        "GaussClassifier=GaussianNB().fit(X_train,Y_train)\n",
        "# predicting testing dataset\n",
        "Y_predict=GaussClassifier.predict(X_test)\n",
        "\n",
        "\n",
        "\n",
        "print(\"Accuracy Score: \",accuracy_score(Y_test, Y_predict))\n",
        "gauss_accuracy_scores.append(accuracy_score(Y_test, Y_predict))\n",
        "print(\"==================================================\")\n",
        "print(\"Confusion Matrix:\\n\",confusion_matrix(Y_test, Y_predict))\n",
        "print(\"==================================================\")\n",
        "print(\"Classification Report:\\n\",classification_report(Y_test, Y_predict))\n"
      ],
      "metadata": {
        "colab": {
          "base_uri": "https://localhost:8080/"
        },
        "id": "pMii2MSLoIPc",
        "outputId": "366bc262-96c7-4130-8565-4bf52833005f"
      },
      "execution_count": 14,
      "outputs": [
        {
          "output_type": "stream",
          "name": "stdout",
          "text": [
            "Accuracy Score:  0.9333333333333333\n",
            "==================================================\n",
            "Confusion Matrix:\n",
            " [[23  0  0]\n",
            " [ 0 15  1]\n",
            " [ 0  3 18]]\n",
            "==================================================\n",
            "Classification Report:\n",
            "                  precision    recall  f1-score   support\n",
            "\n",
            "    Iris-setosa       1.00      1.00      1.00        23\n",
            "Iris-versicolor       0.83      0.94      0.88        16\n",
            " Iris-virginica       0.95      0.86      0.90        21\n",
            "\n",
            "       accuracy                           0.93        60\n",
            "      macro avg       0.93      0.93      0.93        60\n",
            "   weighted avg       0.94      0.93      0.93        60\n",
            "\n"
          ]
        },
        {
          "output_type": "stream",
          "name": "stderr",
          "text": [
            "/usr/local/lib/python3.11/dist-packages/sklearn/utils/validation.py:1408: DataConversionWarning: A column-vector y was passed when a 1d array was expected. Please change the shape of y to (n_samples, ), for example using ravel().\n",
            "  y = column_or_1d(y, warn=True)\n"
          ]
        }
      ]
    },
    {
      "cell_type": "code",
      "source": [
        "import matplotlib.pyplot as plt\n",
        "import numpy as np\n",
        "\n",
        "x=np.array([\"60:40\",\"80:20\"])\n",
        "y=np.array(gauss_accuracy_scores)\n",
        "\n",
        "plt.bar(x,y,align='center')\n",
        "plt.title('Accuracy BarGraph of Gaussian')\n",
        "plt.xlabel('train-test split')\n",
        "plt.ylim(0.1,1.0)\n",
        "plt.ylabel('Accuracy score')\n",
        "plt.show()\n"
      ],
      "metadata": {
        "colab": {
          "base_uri": "https://localhost:8080/",
          "height": 472
        },
        "id": "RdQpNKu9oNt0",
        "outputId": "f1cfbd47-07b0-4fb1-963a-55591abcc72d"
      },
      "execution_count": 20,
      "outputs": [
        {
          "output_type": "display_data",
          "data": {
            "text/plain": [
              "<Figure size 640x480 with 1 Axes>"
            ],
            "image/png": "[encoded data removed]"
          },
          "metadata": {}
        }
      ]
    },
    {
      "cell_type": "markdown",
      "source": [
        "# **BERNOULI** **CLASSIFIER**"
      ],
      "metadata": {
        "id": "0EkQFIe3po-s"
      }
    },
    {
      "cell_type": "code",
      "source": [
        "# accuracy scores datasets\n",
        "bernouli_accuracy_scores=[]"
      ],
      "metadata": {
        "id": "Bw79zk6EpbZ9"
      },
      "execution_count": 17,
      "outputs": []
    },
    {
      "cell_type": "code",
      "source": [
        "from sklearn.model_selection import train_test_split\n",
        "from sklearn.naive_bayes import BernoulliNB\n",
        "from sklearn.metrics import accuracy_score, confusion_matrix, classification_report\n",
        "\n",
        "#splitting training dataset\n",
        "X_train, X_test, Y_train, Y_test = train_test_split(X, Y, test_size=0.4, random_state=2)\n",
        "\n",
        "#Classsification model Naive BAyes\n",
        "BernClassifier=BernoulliNB(alpha=1.0,binarize=2.0,fit_prior=True,class_prior=None).fit(X_train,Y_train)\n",
        "# predicting testing dataset\n",
        "Y_predict=BernClassifier.predict(X_test)\n",
        "\n",
        "\n",
        "\n",
        "print(\"Accuracy Score: \",accuracy_score(Y_test, Y_predict))\n",
        "\n",
        "print(\"==================================================\")\n",
        "print(\"Confusion Matrix:\\n\",confusion_matrix(Y_test, Y_predict))\n",
        "print(\"==================================================\")\n",
        "print(\"Classification Report:\\n\",classification_report(Y_test, Y_predict))\n"
      ],
      "metadata": {
        "colab": {
          "base_uri": "https://localhost:8080/"
        },
        "id": "k-bq4s0RyJrW",
        "outputId": "b116d909-d551-4660-a019-abb52d4329a7"
      },
      "execution_count": 30,
      "outputs": [
        {
          "output_type": "stream",
          "name": "stdout",
          "text": [
            "Accuracy Score:  0.8333333333333334\n",
            "==================================================\n",
            "Confusion Matrix:\n",
            " [[23  0  0]\n",
            " [ 0 16  0]\n",
            " [ 0 10 11]]\n",
            "==================================================\n",
            "Classification Report:\n",
            "                  precision    recall  f1-score   support\n",
            "\n",
            "    Iris-setosa       1.00      1.00      1.00        23\n",
            "Iris-versicolor       0.62      1.00      0.76        16\n",
            " Iris-virginica       1.00      0.52      0.69        21\n",
            "\n",
            "       accuracy                           0.83        60\n",
            "      macro avg       0.87      0.84      0.82        60\n",
            "   weighted avg       0.90      0.83      0.83        60\n",
            "\n"
          ]
        },
        {
          "output_type": "stream",
          "name": "stderr",
          "text": [
            "/usr/local/lib/python3.11/dist-packages/sklearn/utils/validation.py:1408: DataConversionWarning: A column-vector y was passed when a 1d array was expected. Please change the shape of y to (n_samples, ), for example using ravel().\n",
            "  y = column_or_1d(y, warn=True)\n"
          ]
        }
      ]
    },
    {
      "cell_type": "code",
      "source": [
        "from sklearn.model_selection import train_test_split\n",
        "from sklearn.naive_bayes import BernoulliNB\n",
        "from sklearn.metrics import accuracy_score, confusion_matrix, classification_report\n",
        "\n",
        "#splitting training dataset\n",
        "X_train, X_test, Y_train, Y_test = train_test_split(X, Y, test_size=0.2, random_state=2)\n",
        "\n",
        "#Classsification model Naive BAyes\n",
        "BernClassifier=BernoulliNB(alpha=1.1,binarize=2.0,fit_prior=True,class_prior=None).fit(X_train,Y_train)\n",
        "# predicting testing dataset\n",
        "Y_predict=BernClassifier.predict(X_test)\n",
        "\n",
        "\n",
        "\n",
        "print(\"Accuracy Score: \",accuracy_score(Y_test, Y_predict))\n",
        "print(\"==================================================\")\n",
        "print(\"Confusion Matrix:\\n\",confusion_matrix(Y_test, Y_predict))\n",
        "print(\"==================================================\")\n",
        "print(\"Classification Report:\\n\",classification_report(Y_test, Y_predict))\n"
      ],
      "metadata": {
        "colab": {
          "base_uri": "https://localhost:8080/"
        },
        "id": "aXH8oPE8yM9u",
        "outputId": "3a605d87-18a2-4a17-df49-93efac447975"
      },
      "execution_count": 35,
      "outputs": [
        {
          "output_type": "stream",
          "name": "stdout",
          "text": [
            "Accuracy Score:  0.8333333333333334\n",
            "==================================================\n",
            "Confusion Matrix:\n",
            " [[14  0  0]\n",
            " [ 0  8  0]\n",
            " [ 0  5  3]]\n",
            "==================================================\n",
            "Classification Report:\n",
            "                  precision    recall  f1-score   support\n",
            "\n",
            "    Iris-setosa       1.00      1.00      1.00        14\n",
            "Iris-versicolor       0.62      1.00      0.76         8\n",
            " Iris-virginica       1.00      0.38      0.55         8\n",
            "\n",
            "       accuracy                           0.83        30\n",
            "      macro avg       0.87      0.79      0.77        30\n",
            "   weighted avg       0.90      0.83      0.82        30\n",
            "\n"
          ]
        },
        {
          "output_type": "stream",
          "name": "stderr",
          "text": [
            "/usr/local/lib/python3.11/dist-packages/sklearn/utils/validation.py:1408: DataConversionWarning: A column-vector y was passed when a 1d array was expected. Please change the shape of y to (n_samples, ), for example using ravel().\n",
            "  y = column_or_1d(y, warn=True)\n"
          ]
        }
      ]
    },
    {
      "cell_type": "code",
      "source": [
        "import matplotlib.pyplot as plt\n",
        "import numpy as np\n",
        "\n",
        "x=np.array([\"60:40\",\"80:20\"])\n",
        "y=np.array(gauss_accuracy_scores)\n",
        "\n",
        "plt.bar(x,y,align='center')\n",
        "plt.title('Accuracy BarGraph of Bernouli')\n",
        "plt.xlabel('train-test split')\n",
        "plt.ylim(0.1,1.0)\n",
        "plt.ylabel('Accuracy score')\n",
        "plt.show()"
      ],
      "metadata": {
        "colab": {
          "base_uri": "https://localhost:8080/",
          "height": 472
        },
        "id": "cVRDRFqO0RVO",
        "outputId": "f128dc92-2e91-4b27-c18f-1aa40369ac7b"
      },
      "execution_count": 38,
      "outputs": [
        {
          "output_type": "display_data",
          "data": {
            "text/plain": [
              "<Figure size 640x480 with 1 Axes>"
            ],
            "image/png": "[encoded data removed]"
          },
          "metadata": {}
        }
      ]
    },
    {
      "cell_type": "markdown",
      "source": [
        "# **DECISION** **TREE**"
      ],
      "metadata": {
        "id": "T3wjcaOYylbO"
      }
    },
    {
      "cell_type": "code",
      "source": [
        "from sklearn.model_selection import train_test_split\n",
        "from sklearn.tree import DecisionTreeClassifier\n",
        "from sklearn.metrics import accuracy_score, confusion_matrix, classification_report\n",
        "\n",
        "#splitting training dataset\n",
        "X_train, X_test, Y_train, Y_test = train_test_split(X, Y, test_size=0.2, random_state=2)\n",
        "\n",
        "#Classsification model Descision tree\n",
        "DescisionClassifier=DecisionTreeClassifier().fit(X_train,Y_train)\n",
        "# predicting testing dataset\n",
        "Y_predict=DescisionClassifier.predict(X_test)\n",
        "\n",
        "\n",
        "\n",
        "print(\"Accuracy Score: \",accuracy_score(Y_test, Y_predict))\n",
        "print(\"==================================================\")\n",
        "print(\"Confusion Matrix:\\n\",confusion_matrix(Y_test, Y_predict))\n",
        "print(\"==================================================\")\n",
        "print(\"Classification Report:\\n\",classification_report(Y_test, Y_predict))\n"
      ],
      "metadata": {
        "colab": {
          "base_uri": "https://localhost:8080/"
        },
        "id": "E0TxJ3a1tKgW",
        "outputId": "87d683e1-246c-46f7-d73f-7c0256e81bd6"
      },
      "execution_count": 32,
      "outputs": [
        {
          "output_type": "stream",
          "name": "stdout",
          "text": [
            "Accuracy Score:  0.9333333333333333\n",
            "==================================================\n",
            "Confusion Matrix:\n",
            " [[14  0  0]\n",
            " [ 0  7  1]\n",
            " [ 0  1  7]]\n",
            "==================================================\n",
            "Classification Report:\n",
            "                  precision    recall  f1-score   support\n",
            "\n",
            "    Iris-setosa       1.00      1.00      1.00        14\n",
            "Iris-versicolor       0.88      0.88      0.88         8\n",
            " Iris-virginica       0.88      0.88      0.88         8\n",
            "\n",
            "       accuracy                           0.93        30\n",
            "      macro avg       0.92      0.92      0.92        30\n",
            "   weighted avg       0.93      0.93      0.93        30\n",
            "\n"
          ]
        }
      ]
    },
    {
      "cell_type": "code",
      "source": [
        "from sklearn.model_selection import train_test_split\n",
        "from sklearn.tree import DecisionTreeClassifier\n",
        "from sklearn.metrics import accuracy_score, confusion_matrix, classification_report\n",
        "\n",
        "#splitting training dataset\n",
        "X_train, X_test, Y_train, Y_test = train_test_split(X, Y, test_size=0.4, random_state=3)\n",
        "\n",
        "#Classsification model Descision tree\n",
        "DescisionClassifier=DecisionTreeClassifier().fit(X_train,Y_train)\n",
        "# predicting testing dataset\n",
        "Y_predict=DescisionClassifier.predict(X_test)\n",
        "\n",
        "\n",
        "\n",
        "print(\"Accuracy Score: \",accuracy_score(Y_test, Y_predict))\n",
        "print(\"==================================================\")\n",
        "print(\"Confusion Matrix:\\n\",confusion_matrix(Y_test, Y_predict))\n",
        "print(\"==================================================\")\n",
        "print(\"Classification Report:\\n\",classification_report(Y_test, Y_predict))\n"
      ],
      "metadata": {
        "colab": {
          "base_uri": "https://localhost:8080/"
        },
        "id": "1aFxZSsIyXhP",
        "outputId": "5bac324b-7d64-4790-92c1-2a6c37632745"
      },
      "execution_count": 33,
      "outputs": [
        {
          "output_type": "stream",
          "name": "stdout",
          "text": [
            "Accuracy Score:  0.9333333333333333\n",
            "==================================================\n",
            "Confusion Matrix:\n",
            " [[22  0  0]\n",
            " [ 0 17  3]\n",
            " [ 0  1 17]]\n",
            "==================================================\n",
            "Classification Report:\n",
            "                  precision    recall  f1-score   support\n",
            "\n",
            "    Iris-setosa       1.00      1.00      1.00        22\n",
            "Iris-versicolor       0.94      0.85      0.89        20\n",
            " Iris-virginica       0.85      0.94      0.89        18\n",
            "\n",
            "       accuracy                           0.93        60\n",
            "      macro avg       0.93      0.93      0.93        60\n",
            "   weighted avg       0.94      0.93      0.93        60\n",
            "\n"
          ]
        }
      ]
    },
    {
      "cell_type": "code",
      "source": [
        "from sklearn.model_selection import train_test_split\n",
        "from sklearn.tree import DecisionTreeClassifier\n",
        "from sklearn.metrics import accuracy_score, confusion_matrix, classification_report\n",
        "\n",
        "\n",
        "#splitting training dataset\n",
        "X_train, X_test, Y_train, Y_test = train_test_split(X, Y, test_size=0.3, random_state=2)\n",
        "\n",
        "#Classsification model Descision tree\n",
        "DescisionClassifier=DecisionTreeClassifier().fit(X_train,Y_train)\n",
        "# predicting testing dataset\n",
        "Y_predict=DescisionClassifier.predict(X_test)\n",
        "\n",
        "\n",
        "\n",
        "print(\"Accuracy Score: \",accuracy_score(Y_test, Y_predict))\n",
        "print(\"==================================================\")\n",
        "print(\"Confusion Matrix:\\n\",confusion_matrix(Y_test, Y_predict))\n",
        "print(\"==================================================\")\n",
        "print(\"Classification Report:\\n\",classification_report(Y_test, Y_predict))\n",
        "print(\"==================================================\")"
      ],
      "metadata": {
        "colab": {
          "base_uri": "https://localhost:8080/"
        },
        "id": "7QrNECGMyb6N",
        "outputId": "caf2d76f-84e9-49e2-8f79-bb88976e5aa3"
      },
      "execution_count": 34,
      "outputs": [
        {
          "output_type": "stream",
          "name": "stdout",
          "text": [
            "Accuracy Score:  0.9555555555555556\n",
            "==================================================\n",
            "Confusion Matrix:\n",
            " [[17  0  0]\n",
            " [ 0 14  1]\n",
            " [ 0  1 12]]\n",
            "==================================================\n",
            "Classification Report:\n",
            "                  precision    recall  f1-score   support\n",
            "\n",
            "    Iris-setosa       1.00      1.00      1.00        17\n",
            "Iris-versicolor       0.93      0.93      0.93        15\n",
            " Iris-virginica       0.92      0.92      0.92        13\n",
            "\n",
            "       accuracy                           0.96        45\n",
            "      macro avg       0.95      0.95      0.95        45\n",
            "   weighted avg       0.96      0.96      0.96        45\n",
            "\n",
            "==================================================\n"
          ]
        }
      ]
    },
    {
      "cell_type": "code",
      "source": [],
      "metadata": {
        "id": "znUwSWEHygd1"
      },
      "execution_count": null,
      "outputs": []
    }
  ]
}